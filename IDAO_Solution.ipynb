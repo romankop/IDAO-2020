{
 "cells": [
  {
   "cell_type": "code",
   "execution_count": 1,
   "metadata": {
    "colab": {
     "base_uri": "https://localhost:8080/",
     "height": 129
    },
    "colab_type": "code",
    "executionInfo": {
     "elapsed": 19038,
     "status": "ok",
     "timestamp": 1581182018494,
     "user": {
      "displayName": "Степан Малых",
      "photoUrl": "",
      "userId": "05522876630786126607"
     },
     "user_tz": -240
    },
    "id": "wB79npGPlnY3",
    "outputId": "f7ba1559-7ec4-4372-db86-0cfbd8f58dde"
   },
   "outputs": [],
   "source": [
    "import pandas as pd\n",
    "import numpy as np\n",
    "from sklearn.metrics import make_scorer\n",
    "from scipy.ndimage.interpolation import shift\n",
    "import random\n",
    "from scipy.signal import argrelextrema\n",
    "import warnings\n",
    "warnings.filterwarnings(\"ignore\")\n",
    "from copy import deepcopy\n",
    "from sklearn.linear_model import LinearRegression\n",
    "from sklearn.tree import ExtraTreeRegressor"
   ]
  },
  {
   "cell_type": "code",
   "execution_count": 2,
   "metadata": {
    "colab": {},
    "colab_type": "code",
    "id": "TYHqHVo5C0LM"
   },
   "outputs": [],
   "source": [
    "%matplotlib notebook"
   ]
  },
  {
   "cell_type": "code",
   "execution_count": 63,
   "metadata": {
    "colab": {},
    "colab_type": "code",
    "id": "NJUt5NjqC0Li"
   },
   "outputs": [],
   "source": [
    "train = pd.read_csv('train_idao.csv')\n",
    "test = pd.read_csv('test.csv')"
   ]
  },
  {
   "cell_type": "markdown",
   "metadata": {
    "colab_type": "text",
    "id": "K4h8BMLON_42"
   },
   "source": [
    "## Preprocessing"
   ]
  },
  {
   "cell_type": "code",
   "execution_count": 1,
   "metadata": {
    "colab": {},
    "colab_type": "code",
    "id": "XHA1GIcvC0QD"
   },
   "outputs": [],
   "source": [
    "def lags(sat_data):\n",
    "    for i in [1, 2]:\n",
    "        sat_data['epoch'] = pd.to_datetime(sat_data['epoch'])\n",
    "        sat_data['epoch_delta{}'.format(1)] = sat_data['epoch'].diff(periods = 1).dt.seconds\n",
    "        sat_data['x_sim_delta{}'.format(i)] = sat_data['x_sim'].diff(periods = i)\n",
    "        sat_data['y_sim_delta{}'.format(i)] = sat_data['y_sim'].diff(periods = i)\n",
    "        sat_data['z_sim_delta{}'.format(i)] = sat_data['z_sim'].diff(periods = i)\n",
    "        sat_data['Vx_sim_delta{}'.format(i)] = sat_data['Vx_sim'].diff(periods = i)\n",
    "        sat_data['Vy_sim_delta{}'.format(i)] = sat_data['Vy_sim'].diff(periods = i)\n",
    "        sat_data['Vz_sim_delta{}'.format(i)] = sat_data['Vz_sim'].diff(periods = i)\n",
    "        sat_data['velocity_delta{}'.format(i)] = sat_data['velocity'].diff(periods = i)\n",
    "        sat_data['distance_delta{}'.format(i)] = sat_data['distance'].diff(periods = i)\n",
    "        \n",
    "        first_obs = train[(train['sat_id'] == sat_data.name)].iloc[0, :]\n",
    "        \n",
    "        sat_data['distance_from_epoch'] = np.sqrt((sat_data['x_sim'] - first_obs['x_sim']) ** 2 +\\\n",
    "                                                  (sat_data['y_sim'] - first_obs['y_sim']) ** 2 +\\\n",
    "                                                  (sat_data['z_sim'] - first_obs['z_sim']) ** 2)\n",
    "        sat_data['drag_coeff_delta{}'.format(i)] = sat_data['drag_coeff'].diff(periods = i)\n",
    "\n",
    "    return sat_data\n",
    "\n",
    "def dataframe_fix(data, is_test=False):\n",
    "    \n",
    "    if is_test==False:\n",
    "        \n",
    "        df = []\n",
    "        sats = data['sat_id'].unique()\n",
    "        \n",
    "        for sat in sats:\n",
    "            \n",
    "            sat_data = data[data['sat_id'] == sat].reset_index(drop=True)\n",
    "            data_subset = np.array(sat_data.iloc[:,9:])\n",
    "            indexes = list(sat_data[sat_data['epoch_delta1'] < 1].index)\n",
    "            \n",
    "            del indexes[0]\n",
    "            \n",
    "            if (len(indexes)) != 0:\n",
    "                for i in indexes:\n",
    "                    split_data = np.split(data_subset, [i], axis=0)\n",
    "                    data_subset = np.concatenate((split_data[0], shift(split_data[1], [1,0], cval=np.NaN)), axis=0)\n",
    "            \n",
    "            if df==[]:\n",
    "                df = data_subset\n",
    "                \n",
    "            else:\n",
    "                df = np.concatenate((df, data_subset), axis = 0)\n",
    "                \n",
    "        data.iloc[:,9:] = df\n",
    "        data = data.fillna(method='ffill')\n",
    "        \n",
    "        return data\n",
    "    \n",
    "    else:\n",
    "        \n",
    "        df = []\n",
    "        sats = data['sat_id'].unique()\n",
    "        \n",
    "        for sat in sats:\n",
    "            \n",
    "            sat_data = data[data['sat_id'] == sat].reset_index(drop=True)\n",
    "            data_subset = np.array(sat_data.iloc[:,3:])\n",
    "            indexes = list(sat_data[sat_data['epoch_delta1'] < 1].index)\n",
    "            \n",
    "            del indexes[0]\n",
    "            \n",
    "            if (len(indexes)) != 0:\n",
    "                for i in indexes:\n",
    "                    split_data = np.split(data_subset, [i], axis=0)\n",
    "                    data_subset = np.concatenate((split_data[0], shift(split_data[1], [1,0], cval=np.NaN)), axis=0)\n",
    "            \n",
    "            if df==[]:\n",
    "                df = data_subset\n",
    "                \n",
    "            else:\n",
    "                df = np.concatenate((df, data_subset), axis = 0)\n",
    "                \n",
    "        data.iloc[:,3:] = df\n",
    "        data = data.fillna(method='ffill')\n",
    "        \n",
    "        return data\n",
    "\n",
    "def features(data):\n",
    "        \n",
    "    data['epoch'] = pd.to_datetime(data['epoch'])\n",
    "    data['velocity'] = np.sqrt(data['Vx_sim'] ** 2 + data['Vy_sim'] ** 2 + data['Vz_sim'] ** 2)\n",
    "    data['distance'] = np.sqrt(data['x_sim'] ** 2 + data['y_sim'] ** 2 + data['z_sim'] ** 2)\n",
    "    data['drag_coeff'] = 1 / (data['velocity'] ** 2)\n",
    "    \n",
    "    sats = data['sat_id'].unique()\n",
    "\n",
    "    data = data.groupby(['sat_id']).apply(lags)    \n",
    "    data = data.fillna(0)\n",
    "    \n",
    "    return data"
   ]
  },
  {
   "cell_type": "code",
   "execution_count": 65,
   "metadata": {
    "colab": {},
    "colab_type": "code",
    "id": "WM_lBLgnC0QK"
   },
   "outputs": [
    {
     "name": "stdout",
     "output_type": "stream",
     "text": [
      "Wall time: 1min 9s\n"
     ]
    }
   ],
   "source": [
    "%%time\n",
    "\n",
    "data = deepcopy(train)\n",
    "targets = [i for i in train.columns if i not in test.columns]\n",
    "\n",
    "data = data[test.columns].append(test, ignore_index =True)\n",
    "data = pd.concat([data, train[targets]], axis=1)\n",
    "data = data.reindex(train.columns, axis=1).sort_values(by=['sat_id','id'])\n",
    "\n",
    "data = features(data)\n",
    "data = dataframe_fix(data)\n",
    "data = data.sort_index()\n",
    "\n",
    "train = data.iloc[:train.shape[0], :]\n",
    "test = data.iloc[train.shape[0]:, :]"
   ]
  },
  {
   "cell_type": "code",
   "execution_count": 66,
   "metadata": {
    "colab": {},
    "colab_type": "code",
    "id": "wV8GqcvPQFaR",
    "scrolled": true
   },
   "outputs": [],
   "source": [
    "new_delta_epoch = []\n",
    "\n",
    "for i in range(600):\n",
    "    a = train[train['sat_id'] == i]['epoch_delta1'].unique()\n",
    "    new_delta_epoch.extend([a[-1]] * (len(train[train['sat_id'] == i])))\n",
    "\n",
    "train['epoch_delta1'] = new_delta_epoch\n",
    "train['sec_from_epoch'] = (train['epoch'] - pd.to_datetime('2014-01-01T00:00:00.000')).dt.total_seconds()\n",
    "\n",
    "new_delta_epoch = []\n",
    "\n",
    "for i in test['sat_id'].unique():\n",
    "    a = test[test['sat_id'] == i]['epoch_delta1'].unique()\n",
    "    new_delta_epoch.extend([a[-1]] * (len(test[test['sat_id'] == i])))\n",
    "    \n",
    "test['epoch_delta1'] = new_delta_epoch\n",
    "test['sec_from_epoch'] = (test['epoch'] - pd.to_datetime('2014-01-01T00:00:00.000')).dt.total_seconds()\n",
    "\n",
    "test['epoch_delta1'] = new_delta_epoch\n",
    "test['sec_from_epoch'] = (test['epoch'] - pd.to_datetime('2014-01-01T00:00:00.000')).dt.total_seconds()"
   ]
  },
  {
   "cell_type": "code",
   "execution_count": 67,
   "metadata": {
    "colab": {},
    "colab_type": "code",
    "id": "XIHniu-tN_5g"
   },
   "outputs": [],
   "source": [
    "final = []\n",
    "for i in range(600):\n",
    "    train_subset = train[train['sat_id'] == i]\n",
    "    \n",
    "    try:\n",
    "        period = argrelextrema(np.array(train_subset['distance_from_epoch']), np.less)[0][0]\n",
    "    except:\n",
    "        period = 'fail'\n",
    "    \n",
    "    train_ed = train_subset['epoch_delta1']\n",
    "    itog = []\n",
    "    counter = 0\n",
    "    \n",
    "    if period != 'fail':\n",
    "        for i in train_ed:\n",
    "            if counter == period:\n",
    "                counter = 0\n",
    "                \n",
    "            if i<1 and len(itog)==0:\n",
    "                itog.append(counter)\n",
    "                counter += 1\n",
    "                \n",
    "            elif i<1 and len(itog)!=0:\n",
    "                itog.append(itog[-1])\n",
    "                \n",
    "            else:\n",
    "                itog.append(counter)\n",
    "                counter += 1\n",
    "                \n",
    "    elif period == 'fail':\n",
    "        counter_1 = 0\n",
    "        \n",
    "        for i in train_ed:\n",
    "            itog.append(counter_1)\n",
    "            counter_1 += 1\n",
    "        \n",
    "    final.extend(itog)\n",
    "    \n",
    "train['numeration'] = final"
   ]
  },
  {
   "cell_type": "code",
   "execution_count": 68,
   "metadata": {
    "colab": {},
    "colab_type": "code",
    "id": "vZtmVljlN_5p",
    "scrolled": true
   },
   "outputs": [],
   "source": [
    "test_sat = test['sat_id'].unique()\n",
    "test['epoch_delta1'] = test['epoch_delta1'].fillna(0)\n",
    "final = []\n",
    "\n",
    "for i in test_sat:\n",
    "    last_n_train = np.array(train[train['sat_id'] == i]['numeration'])[-1]\n",
    "    \n",
    "    try:\n",
    "        period = argrelextrema(np.array(train[train['sat_id']==i]['distance_from_epoch']), np.less)[0][0]\n",
    "    except:\n",
    "        period = 'fail'\n",
    "    \n",
    "    test_subset = test[test['sat_id'] == i]\n",
    "    test_ed = test_subset['epoch_delta1']\n",
    "    itog = []\n",
    "    counter = last_n_train + 1\n",
    "    \n",
    "    if period != 'fail':\n",
    "        if counter == period:\n",
    "            counter = 0\n",
    "            \n",
    "        for i in test_ed:\n",
    "            if counter == period:\n",
    "                counter = 0\n",
    "                \n",
    "            if i < 1 and len(itog) == 0:\n",
    "                itog.append(counter)\n",
    "                counter += 1\n",
    "                \n",
    "            elif i < 1 and len(itog) != 0:\n",
    "                itog.append(itog[-1])\n",
    "                \n",
    "            else:\n",
    "                itog.append(counter)\n",
    "                counter += 1\n",
    "                \n",
    "    elif period == 'fail':\n",
    "        counter_1 = last_n_train + 1\n",
    "        \n",
    "        for i in test_ed:\n",
    "            itog.append(counter_1)\n",
    "            counter_1 += 1\n",
    "        \n",
    "    final.extend(itog)\n",
    "    \n",
    "test['numeration'] = final"
   ]
  },
  {
   "cell_type": "markdown",
   "metadata": {
    "colab_type": "text",
    "id": "amhcSwPKN_50"
   },
   "source": [
    "## Metrics"
   ]
  },
  {
   "cell_type": "code",
   "execution_count": 52,
   "metadata": {
    "colab": {},
    "colab_type": "code",
    "id": "9yn4wbDqN_56"
   },
   "outputs": [],
   "source": [
    "def smape(satellite_predicted_values, satellite_true_values): \n",
    "    return np.mean(np.abs((satellite_predicted_values - satellite_true_values) \n",
    "        / (np.abs(satellite_predicted_values) + np.abs(satellite_true_values))))\n",
    "\n",
    "def score_idao(satellite_predicted_values, satellite_true_values):\n",
    "    return 1 - smape(satellite_predicted_values, satellite_true_values)\n",
    "\n",
    "# Custom metric\n",
    "def custom_metric(y_true, y_pred): \n",
    "    return np.mean(np.abs((y_pred - y_true) \n",
    "        / (np.abs(y_pred) + np.abs(y_true))))\n",
    "\n",
    "smape_metric = make_scorer(custom_metric, greater_is_better = True)"
   ]
  },
  {
   "cell_type": "markdown",
   "metadata": {
    "colab_type": "text",
    "id": "5hfEIimmN_6U"
   },
   "source": [
    "## Models"
   ]
  },
  {
   "cell_type": "code",
   "execution_count": 95,
   "metadata": {
    "colab": {},
    "colab_type": "code",
    "id": "mV1ynNSQN_6b",
    "scrolled": false
   },
   "outputs": [],
   "source": [
    "sats = test['sat_id'].unique()\n",
    "results = []\n",
    "\n",
    "for sat in sats:\n",
    "    X = train[(train['sat_id'] == sat)].iloc[:,9:]\n",
    "    y = train[(train['sat_id'] == sat)].iloc[:, 3:9]\n",
    "    \n",
    "    X_train = X.head(int(len(X)*(50/100)))\n",
    "    y_train = y.head(int(len(X)*(50/100)))\n",
    "    \n",
    "    X_test = X.tail(int(len(X)*(50/100)))\n",
    "    y_test = y.tail(int(len(X)*(50/100)))\n",
    "    indexes = X_test.index\n",
    "    \n",
    "    model = LinearRegression()\n",
    "    model.fit(np.array(X_train), y_train)\n",
    "    \n",
    "    results.append(custom_metric(y_test, model.predict(X_test)))\n",
    "\n",
    "results = pd.DataFrame(results)\n",
    "\n",
    "badsats = sats[results[results.mean(axis=1)>0.5].index]"
   ]
  },
  {
   "cell_type": "markdown",
   "metadata": {
    "colab_type": "text",
    "id": "Cet749sIN_8L"
   },
   "source": [
    "## Submissions"
   ]
  },
  {
   "cell_type": "code",
   "execution_count": 43,
   "metadata": {},
   "outputs": [],
   "source": [
    "np.random.seed(42)"
   ]
  },
  {
   "cell_type": "markdown",
   "metadata": {},
   "source": [
    "### Baseline Model"
   ]
  },
  {
   "cell_type": "code",
   "execution_count": 61,
   "metadata": {
    "colab": {},
    "colab_type": "code",
    "id": "uQO2vOy1N_8S",
    "outputId": "a0fd7016-77b0-4a25-ce96-b20c1369b010",
    "scrolled": true
   },
   "outputs": [
    {
     "name": "stdout",
     "output_type": "stream",
     "text": [
      "Successfully finished! Submit to get IDAO 90%+ score!\n",
      "Wall time: 8.6 s\n"
     ]
    }
   ],
   "source": [
    "%%time\n",
    "sats = test['sat_id'].unique()\n",
    "results = pd.DataFrame()\n",
    "\n",
    "for sat in sats:\n",
    "    X = train[train['sat_id'] == sat].iloc[:,9:]\n",
    "    y = train[train['sat_id'] == sat].iloc[:, 3:9]\n",
    "    \n",
    "    X_test = test[test['sat_id'] == sat].iloc[:, 9:]\n",
    "    \n",
    "    model = LinearRegression()\n",
    "    model.fit(X, y)\n",
    "    \n",
    "    predictions = model.predict(X_test)\n",
    "    results = results.append(pd.DataFrame(predictions))\n",
    "    \n",
    "results = results.reset_index(drop = True)\n",
    "results.columns = ['x', 'y', 'z', 'Vx', 'Vy', 'Vz']\n",
    "results['id'] = test['id'].values\n",
    "\n",
    "\n",
    "results = results[['id', 'x', 'y', 'z', 'Vx', 'Vy', 'Vz']]\n",
    "results.to_csv('submission.csv', index = False)\n",
    "\n",
    "print('Successfully finished! Submit to get IDAO 90%+ score!')"
   ]
  },
  {
   "cell_type": "markdown",
   "metadata": {},
   "source": [
    "### Final Model"
   ]
  },
  {
   "cell_type": "code",
   "execution_count": 96,
   "metadata": {
    "colab": {},
    "colab_type": "code",
    "id": "lh2JRVmgN_8d",
    "outputId": "07d0e73b-1b9c-4cb7-dea4-dd70f6190baf"
   },
   "outputs": [
    {
     "name": "stdout",
     "output_type": "stream",
     "text": [
      "Successfully finished! Submit to get IDAO 90%+ score!\n",
      "Wall time: 33.1 s\n"
     ]
    }
   ],
   "source": [
    "%%time\n",
    "results = pd.DataFrame()\n",
    "cols = train.columns[3:9]\n",
    "\n",
    "for sat in sats:\n",
    "    if sat not in badsats:\n",
    "        X = train[train['sat_id'] == sat].iloc[:,9:]\n",
    "        y = train[train['sat_id'] == sat].iloc[:, 3:9]\n",
    "        \n",
    "        X_test = test[test['sat_id'] == sat].iloc[:, 9:]\n",
    "\n",
    "        model = LinearRegression()\n",
    "        model.fit(X, y)\n",
    "        \n",
    "        predictions = pd.DataFrame(model.predict(X_test))\n",
    "        predictions.index = X_test.index\n",
    "        results = results.append(predictions)\n",
    "        \n",
    "    else:\n",
    "        sat_data = train[train['sat_id'] == sat]\n",
    "        for i in test[test['sat_id'] == sat]['numeration'].unique():\n",
    "            X = sat_data[(sat_data['numeration'] == i)].iloc[:,9:]\n",
    "            Y = sat_data[(sat_data['numeration'] == i)].iloc[:, 3:9]\n",
    "            \n",
    "            X_test = test[test['sat_id'] == sat][test['numeration'] == i].iloc[:, 9:]\n",
    "\n",
    "            model = ExtraTreesRegressor(random_state=42)\n",
    "            model.fit(np.array(X), Y)\n",
    "            \n",
    "            predictions = pd.DataFrame(model.predict(X_test))\n",
    "            predictions.index = X_test.index\n",
    "            results = results.append(predictions)\n",
    "\n",
    "\n",
    "results = results.sort_index()\n",
    "results = results.reset_index(drop = True)\n",
    "results.columns = ['x', 'y', 'z', 'Vx', 'Vy', 'Vz']\n",
    "results['id'] = test['id'].values\n",
    "\n",
    "\n",
    "results = results[['id', 'x', 'y', 'z', 'Vx', 'Vy', 'Vz']]\n",
    "results.to_csv('submission.csv', index = False)\n",
    "\n",
    "print('Successfully finished! Submit to get IDAO 90%+ score!')"
   ]
  }
 ],
 "metadata": {
  "colab": {
   "collapsed_sections": [],
   "name": "89_52.ipynb",
   "provenance": []
  },
  "kernelspec": {
   "display_name": "Python 3",
   "language": "python",
   "name": "python3"
  },
  "language_info": {
   "codemirror_mode": {
    "name": "ipython",
    "version": 3
   },
   "file_extension": ".py",
   "mimetype": "text/x-python",
   "name": "python",
   "nbconvert_exporter": "python",
   "pygments_lexer": "ipython3",
   "version": "3.7.1"
  },
  "latex_envs": {
   "LaTeX_envs_menu_present": true,
   "autoclose": false,
   "autocomplete": true,
   "bibliofile": "biblio.bib",
   "cite_by": "apalike",
   "current_citInitial": 1,
   "eqLabelWithNumbers": true,
   "eqNumInitial": 1,
   "hotkeys": {
    "equation": "Ctrl-E",
    "itemize": "Ctrl-I"
   },
   "labels_anchors": false,
   "latex_user_defs": false,
   "report_style_numbering": false,
   "user_envs_cfg": false
  }
 },
 "nbformat": 4,
 "nbformat_minor": 1
}
